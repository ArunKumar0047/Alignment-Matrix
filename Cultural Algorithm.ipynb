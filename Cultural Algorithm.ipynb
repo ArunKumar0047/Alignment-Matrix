{
 "cells": [
  {
   "cell_type": "code",
   "execution_count": 1,
   "id": "6fe209fe",
   "metadata": {},
   "outputs": [],
   "source": [
    "import numpy as np\n",
    "import matplotlib.pyplot as plt"
   ]
  },
  {
   "cell_type": "code",
   "execution_count": 4,
   "id": "fc537739",
   "metadata": {},
   "outputs": [],
   "source": [
    "lower=-1\n",
    "upper=2\n",
    "size=5"
   ]
  },
  {
   "cell_type": "code",
   "execution_count": 5,
   "id": "350a0c01",
   "metadata": {},
   "outputs": [],
   "source": [
    "def function(x):\n",
    "    return x*np.sin(10*np.pi*x)+2"
   ]
  },
  {
   "cell_type": "code",
   "execution_count": 7,
   "id": "9ed4a303",
   "metadata": {},
   "outputs": [],
   "source": [
    "def generatePopulation(size=size, resolution=7):\n",
    "    population=[]"
   ]
  },
  {
   "cell_type": "code",
   "execution_count": null,
   "id": "1dd6121c",
   "metadata": {},
   "outputs": [],
   "source": []
  }
 ],
 "metadata": {
  "kernelspec": {
   "display_name": "Python 3 (ipykernel)",
   "language": "python",
   "name": "python3"
  },
  "language_info": {
   "codemirror_mode": {
    "name": "ipython",
    "version": 3
   },
   "file_extension": ".py",
   "mimetype": "text/x-python",
   "name": "python",
   "nbconvert_exporter": "python",
   "pygments_lexer": "ipython3",
   "version": "3.9.12"
  }
 },
 "nbformat": 4,
 "nbformat_minor": 5
}
